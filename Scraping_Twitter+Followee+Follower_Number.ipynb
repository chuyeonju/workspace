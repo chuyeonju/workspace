{
 "cells": [
  {
   "cell_type": "code",
   "execution_count": null,
   "metadata": {},
   "outputs": [],
   "source": [
    "import os\n",
    "# os.getcwd()\n",
    "\n",
    "import pandas as pd\n",
    "import requests as rq #url을 가져오기 위한 파이썬 내장 패키지\n",
    "\n",
    "from bs4 import BeautifulSoup #beautifulsoup 가져오기\n",
    "from selenium import webdriver #selenium 가져오기\n",
    "import time #파일을 저장할 때 이름을 현재시각으로 하기 위해서 가져오는 기본 라이브러리\n",
    "import os # 파일 디렉토리를 확인할 때 사용한 라이브러리\n",
    "import io #파일저장할 때 사용하는 라이브러리\n",
    "from selenium.webdriver.common.keys import Keys"
   ]
  },
  {
   "cell_type": "code",
   "execution_count": null,
   "metadata": {},
   "outputs": [],
   "source": []
  },
  {
   "cell_type": "code",
   "execution_count": null,
   "metadata": {},
   "outputs": [],
   "source": [
    "# Load screen name list"
   ]
  },
  {
   "cell_type": "code",
   "execution_count": null,
   "metadata": {},
   "outputs": [],
   "source": [
    "# Load your own screen name list\n",
    "df_name = pd.read_csv('%%%.csv')"
   ]
  },
  {
   "cell_type": "code",
   "execution_count": null,
   "metadata": {},
   "outputs": [],
   "source": [
    "name = [i for i in df_name.Label.values]\n",
    "print(len(name)) # check number"
   ]
  },
  {
   "cell_type": "code",
   "execution_count": null,
   "metadata": {},
   "outputs": [],
   "source": []
  },
  {
   "cell_type": "code",
   "execution_count": null,
   "metadata": {},
   "outputs": [],
   "source": [
    "# scraping\n",
    "elem = driver.find_element_by_css_selector(\"#react-root > div > div > div > main > div > div > div > div.css-1dbjc4n.r-6koalj.r-16y2uox > div.css-1dbjc4n.r-16y2uox.r-1jgb5lz.r-13qz1uu > div.css-1dbjc4n.r-8w3o46.r-16y2uox.r-1wbh5a2.r-1dqxon3 > div > div > div.css-1dbjc4n.r-mk0yit.r-1f1sjgu.r-13qz1uu > label > div > div.css-1dbjc4n.r-18u37iz.r-16y2uox.r-1wbh5a2.r-1wzrnnt.r-1udh08x.r-xd6kpl.r-1pn2ns4.r-ttdzmv > div > input\")\n",
    "elem.clear()"
   ]
  },
  {
   "cell_type": "code",
   "execution_count": null,
   "metadata": {},
   "outputs": [],
   "source": [
    "email = input(\"Enter your email or username here: \")\n",
    "elem.send_keys(email)\n",
    "elem.send_keys(Keys.RETURN)\n",
    "\n",
    "elem = driver.find_element_by_css_selector(\"#react-root > div > div > div > main > div > div > div > div.css-1dbjc4n.r-6koalj.r-16y2uox > div.css-1dbjc4n.r-16y2uox.r-1jgb5lz.r-1ye8kvj.r-13qz1uu > div.css-1dbjc4n.r-8w3o46.r-16y2uox.r-1wbh5a2.r-1dqxon3 > div > div > div.css-1dbjc4n.r-mk0yit.r-13qz1uu > div > label > div > div.css-1dbjc4n.r-18u37iz.r-16y2uox.r-1wbh5a2.r-1wzrnnt.r-1udh08x.r-xd6kpl.r-1pn2ns4.r-ttdzmv > div.css-901oao.r-1awozwy.r-1fmj7o5.r-6koalj.r-1qd0xha.r-1inkyih.r-16dba41.r-135wba7.r-bcqeeo.r-13qz1uu.r-qvutc0 > input\")\n",
    "elem.clear() #erase text\n",
    "password = input(\"Enter your password here: \")\n",
    "elem.send_keys(password)\n",
    "\n",
    "elem.send_keys(Keys.RETURN)\n",
    "time.sleep(2)"
   ]
  },
  {
   "cell_type": "code",
   "execution_count": null,
   "metadata": {},
   "outputs": [],
   "source": [
    "followee = [] \n",
    "follower = []\n",
    "\n",
    "for i in range(len(name)):\n",
    "    link = 'https://twitter.com/' + name[i]\n",
    "    driver.get(link)\n",
    "    driver.implicitly_wait(3)\n",
    "    try:\n",
    "        wee = driver.find_element_by_xpath(\"//span[descendant::span[text()='Following']]/preceding-sibling::span/span\").text\n",
    "        wer = driver.find_element_by_xpath(\"//span[descendant::span[text()='Followers']]/preceding-sibling::span/span\").text\n",
    "        followee.append(wee)\n",
    "        follower.append(wer)\n",
    "\n",
    "    except Exception as e:\n",
    "        followee.append(\"None\")\n",
    "        follower.append(\"None\")\n",
    "        time.sleep(60*15)\n",
    "        continue\n",
    "    except StopIteration:\n",
    "        break"
   ]
  },
  {
   "cell_type": "code",
   "execution_count": null,
   "metadata": {},
   "outputs": [],
   "source": [
    "result = {'followee': followee, 'follower':follower}\n",
    "df = pd.DataFrame(result)"
   ]
  },
  {
   "cell_type": "code",
   "execution_count": null,
   "metadata": {},
   "outputs": [],
   "source": [
    "df.to_csv('followee.csv') #export your result"
   ]
  },
  {
   "cell_type": "code",
   "execution_count": null,
   "metadata": {},
   "outputs": [],
   "source": []
  }
 ],
 "metadata": {
  "kernelspec": {
   "display_name": "Python 3",
   "language": "python",
   "name": "python3"
  },
  "language_info": {
   "codemirror_mode": {
    "name": "ipython",
    "version": 3
   },
   "file_extension": ".py",
   "mimetype": "text/x-python",
   "name": "python",
   "nbconvert_exporter": "python",
   "pygments_lexer": "ipython3",
   "version": "3.7.9"
  }
 },
 "nbformat": 4,
 "nbformat_minor": 4
}
